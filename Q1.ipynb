{
 "cells": [
  {
   "cell_type": "markdown",
   "metadata": {},
   "source": [
    "# Question\n",
    "The goal of this exercise is to designa movie recommendation system using Collaborative Filtering and Content-based recommendation. First, study Collaborative Filtering and Content-based recommen- dation and briefly explain their algorithms."
   ]
  },
  {
   "cell_type": "markdown",
   "metadata": {},
   "source": [
    "# Collaborative Filtering\n",
    "### Overview\n",
    "\n",
    "Collaborative Filtering (CF) is a popular method used by recommendation systems to suggest items (e.g., movies) to users based on the preferences and behaviors of other users. It assumes that if two users have agreed on certain items in the past, they are likely to agree on other items as well.\n",
    "\n",
    "### Algorithms\n",
    "\n",
    "#### User-based Collaborative Filtering:\n",
    "\n",
    "* Step 1: Identify Similar Users: Calculate the similarity between users based on their ratings of items. Common similarity measures include Pearson Correlation and Cosine Similarity.\n",
    "\n",
    "* Step 2: Predict Ratings: Predict the rating that a user would give to an item based on the ratings of similar users. Typically, this is done by taking a weighted average of the ratings given by similar users.\n",
    "\n",
    "#### Item-based Collaborative Filtering:\n",
    "\n",
    "* Step 1: Identify Similar Items: Calculate the similarity between items based on user ratings. Similarity measures used are similar to those in user-based CF.\n",
    "\n",
    "* Step 2: Predict Ratings: Predict a user's rating for an item based on the user's ratings of similar items. This is usually achieved by taking a weighted average of the ratings the user has given to similar items.\n",
    "\n",
    "\n",
    "# Content-based Recommendation\n",
    "### Overview\n",
    "\n",
    "Content-based recommendation systems suggest items based on the features of the items and a profile of the user’s preferences. They recommend items similar to those a user has liked in the past.\n",
    "\n",
    "### Algorithm\n",
    "\n",
    "#### Item Profiling:\n",
    "\n",
    "Create a profile for each item based on its attributes. For movies, this might include genre, director, actors, keywords, etc.\n",
    "\n",
    "#### User Profiling:\n",
    "\n",
    "Create a profile for each user based on the items they have interacted with. This can be done by aggregating the features of items a user has liked.\n",
    "\n",
    "#### Recommendation:\n",
    "\n",
    "Compare the user profile with the item profiles and recommend items that have a high similarity to the user profile. Common techniques for measuring similarity include Cosine Similarity and Euclidean Distance.\n"
   ]
  }
 ],
 "metadata": {
  "language_info": {
   "name": "python"
  }
 },
 "nbformat": 4,
 "nbformat_minor": 2
}
